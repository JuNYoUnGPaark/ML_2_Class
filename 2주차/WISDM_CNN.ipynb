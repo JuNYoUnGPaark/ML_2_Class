{
  "nbformat": 4,
  "nbformat_minor": 0,
  "metadata": {
    "colab": {
      "provenance": [],
      "gpuType": "T4"
    },
    "kernelspec": {
      "name": "python3",
      "display_name": "Python 3"
    },
    "language_info": {
      "name": "python"
    },
    "accelerator": "GPU"
  },
  "cells": [
    {
      "cell_type": "markdown",
      "source": [
        "---\n",
        "# WISDM\n",
        "\n",
        "**W**ireless **S**ensor **D**ata **M**ining: 스마트폰 가속도 센서 값\n",
        "\n",
        "---\n",
        "\n",
        "## Subject : 시계열데이터(time_series_data)를 CNN Model에 입력하기 위한 가공 과정\n",
        "\n",
        "---\n",
        "### 1) Data 설명\n",
        "\n",
        "**Columns** : user_id, activity, timestamp, x, y, z\n",
        "\n",
        "- `user_id`: 고유번호\n",
        "- `activity`: label, 어떤 활동을 하고 있었는지\n",
        "- `timestamp`: 1차원, 시간 흐름\n",
        "- `x, y, z`: features, (x, y, z)축\n",
        "\n",
        "\n",
        "### 2) 왜 시계열을 2D로 바꾸는가?\n",
        "\n",
        "- CNN은 2D 처리를 더 잘하기 때문에 `Conv1D`를 사용하기 위해서,\n",
        "- ‘윈도우’로 잘라서 2D Matrix 형태로 바꿔주는 것.\n",
        "    \n",
        "    → CNN: 시간축 X 채널축 = 2D 를 학습하게 만듦\n",
        "    \n",
        "    → (기존 CNN: 행 X 열 = 2D 학습)\n",
        "    \n",
        "\n",
        "### 3) Window slicing을 하면…\n",
        "\n",
        "frame_size = 128 → shape = (128, 3) = (length, channels)\n",
        "\n",
        "### 4) CNN에 들어가려면…\n",
        "\n",
        "- *PyTorch* 기준으로 `Conv1D = (batch, channels, length)`로 입력을 받는다.\n",
        "    \n",
        "    (`Conv2D = (N, C, H, W) = (개 채 행 열)`)\n",
        "    \n",
        "- 그렇기에 우선 (128, 3)을 (3, 128)로 Transpose 해야함.\n",
        "- 그다음, 최종 shape = (N, 3, 128)"
      ],
      "metadata": {
        "id": "yBT9rmyX1fsF"
      }
    },
    {
      "cell_type": "code",
      "execution_count": 1,
      "metadata": {
        "colab": {
          "base_uri": "https://localhost:8080/"
        },
        "id": "xyusxDnl1c_h",
        "outputId": "c50d83ef-c89b-4efb-835f-6fda0f71196c"
      },
      "outputs": [
        {
          "output_type": "stream",
          "name": "stdout",
          "text": [
            "Drive already mounted at /content/drive; to attempt to forcibly remount, call drive.mount(\"/content/drive\", force_remount=True).\n"
          ]
        }
      ],
      "source": [
        "from google.colab import drive\n",
        "\n",
        "# 구글 드라이브 마운트\n",
        "drive.mount('/content/drive')"
      ]
    },
    {
      "cell_type": "code",
      "source": [
        "import numpy as np\n",
        "import pandas as pd\n",
        "from sklearn.model_selection import train_test_split\n",
        "from sklearn.preprocessing import LabelEncoder\n",
        "\n",
        "import torch\n",
        "from torch import nn\n",
        "from torch.utils.data import Dataset, DataLoader"
      ],
      "metadata": {
        "id": "YwhFXAb91iDq"
      },
      "execution_count": 2,
      "outputs": []
    },
    {
      "cell_type": "markdown",
      "source": [
        "- WISDM 데이터 파일 구조\\\n",
        "33,Jogging,49105962326000,-0.6946377,12.680544,0.50395286;\\\n",
        "33,Jogging,49106062271000,5.012288,11.264028,0.95342433;\\\n",
        "33,Jogging,49106112167000,4.903325,10.882658,-0.08172209;"
      ],
      "metadata": {
        "id": "CYZs4pPA29tB"
      }
    },
    {
      "cell_type": "code",
      "source": [
        "def load_data(path):\n",
        "  '''\n",
        "  데이터 불러올 함수\n",
        "    - path만 지정해주면 필요한 전처리 진행\n",
        "    - 전처리 요소\n",
        "      - CSV 파일의 ','를 기준으로 나누기\n",
        "      - 세미콜론 제거\n",
        "      - 숫자형으로 변환\n",
        "      - 결측치 제거\n",
        "  '''\n",
        "  df = pd.read_csv(\n",
        "      path,\n",
        "      header=None,\n",
        "      delimiter=\",\",\n",
        "      engine=\"python\",\n",
        "      on_bad_lines=\"skip\",\n",
        "      na_values=[\"nan\",\"NaN\",\"NAN\",\"null\",\"None\",\"\", \"nan;\",\"NaN;\",\"NAN;\",\"null;\",\"None;\"],  # <- 문자열 'nan' 등도 NaN으로 인식\n",
        "      keep_default_na=True,\n",
        "  )\n",
        "  df = df.iloc[:, :6].copy()\n",
        "  df.columns = [\"user_id\",\"label\",\"timestamp\",\"x\",\"y\",\"z\"]\n",
        "\n",
        "  # 공백/세미콜론/문자 'nan' 정리 후 숫자화\n",
        "  for c in [\"x\",\"y\",\"z\"]:\n",
        "      s = df[c].astype(str).str.strip().str.replace(\";\", \"\", regex=False)\n",
        "      # 남아 있는 'nan/null/none' 같은 문자열을 NaN으로 통일\n",
        "      s = s.mask(s.str.lower().isin([\"nan\",\"null\",\"none\",\"\"]))\n",
        "      df[c] = pd.to_numeric(s, errors=\"coerce\")\n",
        "\n",
        "  # 숫자/라벨 빠진 행 제거\n",
        "  df = df.dropna(subset=[\"x\",\"y\",\"z\",\"label\"]).reset_index(drop=True)\n",
        "  return df"
      ],
      "metadata": {
        "id": "W3cDuc8a18MQ"
      },
      "execution_count": 3,
      "outputs": []
    },
    {
      "cell_type": "code",
      "source": [
        "def make_windows(df, frame_size=128, hop_size=64):\n",
        "  '''\n",
        "  Sliding Window 구현 함수\n",
        "    - frame_size & hop_size는 각각 고정\n",
        "    - (시간축 X 채널축)으로 변환\n",
        "    - X, y로 나누기 -> np.array로 변환한 값 반환\n",
        "  '''\n",
        "  X, y = [], []\n",
        "  values = df[[\"x\", \"y\", \"z\"]].values.astype(np.float32)\n",
        "  labels = df[\"label\"].values\n",
        "\n",
        "  for i in range(0, len(df) - frame_size, hop_size):\n",
        "    X.append(values[i:i+frame_size])\n",
        "    win_label = pd.Series(df['label'][i:i+frame_size]).mode()[0]  # 해당 구간에서 가장 많은 라벨 선택\n",
        "    y.append(win_label)\n",
        "\n",
        "  return np.array(X), np.array(y)"
      ],
      "metadata": {
        "id": "Yk_fgSdd4GKm"
      },
      "execution_count": 4,
      "outputs": []
    },
    {
      "cell_type": "markdown",
      "source": [
        "#### 정규화 과정\n",
        "1. `train set`의 각 축(x,y,z)에 대한 mean과 std 구하기\n",
        "2. 각 데이터에서 mean을 빼고 std로 나누기\n",
        "3. 모든 축의 데이터 분포가 mean=0, std=1로 맞춰진다.\n",
        "- `test set`은 학습이 끝나고 따로 정규화를 해서 분포를 맞춰준채로 Test한다.\n"
      ],
      "metadata": {
        "id": "GrNGQBDxD9qE"
      }
    },
    {
      "cell_type": "code",
      "source": [
        "def split_and_norm(X, y):\n",
        "  '''\n",
        "  학습, 테스트셋으로 나누고 정규화 하는 함수\n",
        "  '''\n",
        "  X_train, X_test, y_train, y_test = train_test_split(\n",
        "      X, y, test_size=0.2, random_state=42, stratify=y\n",
        "  )\n",
        "\n",
        "  # 정규화\n",
        "  mean = X_train.mean(axis=(0,1), keepdims=True)\n",
        "  std = X_train.std(axis=(0,1), keepdims=True) + 1e-8\n",
        "  X_train = (X_train - mean) / std\n",
        "  X_test = (X_test - mean) / std\n",
        "  return X_train, X_test, y_train, y_test"
      ],
      "metadata": {
        "id": "r7tPQHCLC8Og"
      },
      "execution_count": 5,
      "outputs": []
    },
    {
      "cell_type": "code",
      "source": [
        "class TimeseriesDataset(Dataset):\n",
        "  def __init__(self, X, y):\n",
        "    self.X = X\n",
        "    self.y = y\n",
        "\n",
        "  def __len__(self):\n",
        "    return len(self.X)\n",
        "\n",
        "  def __getitem__(self, i):\n",
        "    # (L, C) -> Transpose (C, L) => .transpose(0, 1)\n",
        "    xi = torch.from_numpy(self.X[i]).transpose(0, 1).contiguous().float()\n",
        "    yi = torch.tensor(self.y[i], dtype=torch.long)  # long: 정수 인덱싱\n",
        "    return xi, yi"
      ],
      "metadata": {
        "id": "YOTYmKC0FaDl"
      },
      "execution_count": 6,
      "outputs": []
    },
    {
      "cell_type": "code",
      "source": [
        "class SimpleCNN1D(nn.Module):\n",
        "  def __init__(self, n_classes):\n",
        "    super().__init__()\n",
        "    self.simplenet = nn.Sequential(\n",
        "        nn.Conv1d(3, 64, 5, padding=2), nn.ReLU(),\n",
        "        nn.MaxPool1d(2),\n",
        "        nn.Conv1d(64, 128, 5, padding=2), nn.ReLU(),\n",
        "        nn.MaxPool1d(2),\n",
        "        nn.AdaptiveAvgPool1d(1),\n",
        "        nn.Flatten(),\n",
        "        nn.Linear(128, n_classes)\n",
        "    )\n",
        "\n",
        "  def forward(self, x):\n",
        "    return self.simplenet(x)"
      ],
      "metadata": {
        "id": "biKb1pF7GwQc"
      },
      "execution_count": 7,
      "outputs": []
    },
    {
      "cell_type": "code",
      "source": [
        "def train(model, train_loader, test_loader, epochs=20, lr=1e-3):\n",
        "    device = \"cuda\" if torch.cuda.is_available() else \"cpu\"\n",
        "    model = model.to(device)\n",
        "    optimizer = torch.optim.Adam(model.parameters(), lr=lr)\n",
        "    criterion = nn.CrossEntropyLoss().to(device)\n",
        "\n",
        "    history = {\"train_loss\": [], \"train_acc\": [], \"test_acc\": []}\n",
        "\n",
        "    for ep in range(1, epochs+1):\n",
        "        model.train()\n",
        "        total, correct, loss_sum = 0, 0, 0.0\n",
        "\n",
        "        for xb, yb in train_loader:\n",
        "            # ★ 여기서 반드시 GPU로 이동 + dtype 보장\n",
        "            xb = xb.to(device, non_blocking=True).float()\n",
        "            yb = yb.to(device, non_blocking=True).long()\n",
        "\n",
        "            optimizer.zero_grad(set_to_none=True)\n",
        "            logits = model(xb)\n",
        "            loss = criterion(logits, yb)\n",
        "            loss.backward()\n",
        "            optimizer.step()\n",
        "\n",
        "            total += yb.size(0)\n",
        "            correct += (logits.argmax(1) == yb).sum().item()\n",
        "            loss_sum += loss.item() * yb.size(0)\n",
        "\n",
        "        train_loss = loss_sum / total\n",
        "        train_acc  = correct / total\n",
        "\n",
        "        # ----- eval -----\n",
        "        model.eval()\n",
        "        total, correct = 0, 0\n",
        "        with torch.no_grad():\n",
        "            for xb, yb in test_loader:\n",
        "                xb = xb.to(device, non_blocking=True).float()\n",
        "                yb = yb.to(device, non_blocking=True).long()\n",
        "                logits = model(xb)\n",
        "                total += yb.size(0)\n",
        "                correct += (logits.argmax(1) == yb).sum().item()\n",
        "        test_acc = correct / total\n",
        "\n",
        "        history[\"train_loss\"].append(train_loss)\n",
        "        history[\"train_acc\"].append(train_acc)\n",
        "        history[\"test_acc\"].append(test_acc)\n",
        "\n",
        "        print(f\"Epoch {ep}: train_loss={train_loss:.4f}, train_acc={train_acc:.3f}, test_acc={test_acc:.3f}\")\n",
        "\n",
        "\n",
        "    return history"
      ],
      "metadata": {
        "id": "ofhBjweRG_2l"
      },
      "execution_count": 8,
      "outputs": []
    },
    {
      "cell_type": "code",
      "source": [
        "# 실행문\n",
        "if __name__ == \"__main__\":\n",
        "    PATH = \"/content/drive/MyDrive/Colab Notebooks/data/WISDM_ar_v1.1_raw.txt\"\n",
        "\n",
        "    df = load_data(PATH)\n",
        "    X, y = make_windows(df, frame_size=128, hop_size=64)\n",
        "    X_train, X_test, y_train, y_test = split_and_norm(X, y)\n",
        "\n",
        "    # 라벨 인코딩 -> 위 훈련셋만 했던 정규화로 범위 맞추기\n",
        "    le = LabelEncoder()\n",
        "    y_train = le.fit_transform(y_train)\n",
        "    y_test = le.transform(y_test)\n",
        "    n_classes = len(le.classes_)\n",
        "\n",
        "    # Dataset 생성\n",
        "    train_ds = TimeseriesDataset(X_train, y_train)\n",
        "    test_ds  = TimeseriesDataset(X_test, y_test)\n",
        "\n",
        "    # DataLoader 생성\n",
        "    train_loader = DataLoader(train_ds, batch_size=512, shuffle=True)\n",
        "    test_loader  = DataLoader(test_ds, batch_size=1024, shuffle=False)\n",
        "\n",
        "\n",
        "    # 모델 & 학습\n",
        "    model = SimpleCNN1D(n_classes)\n",
        "    history = train(model, train_loader, test_loader, epochs=20, lr=1e-3)"
      ],
      "metadata": {
        "colab": {
          "base_uri": "https://localhost:8080/"
        },
        "id": "MEoFRfclIijD",
        "outputId": "fcbd0057-447f-4e2f-e383-764fc6a0e72d"
      },
      "execution_count": 9,
      "outputs": [
        {
          "output_type": "stream",
          "name": "stdout",
          "text": [
            "Epoch 1: train_loss=1.2686, train_acc=0.506, test_acc=0.667\n",
            "Epoch 2: train_loss=0.9090, train_acc=0.704, test_acc=0.724\n",
            "Epoch 3: train_loss=0.7130, train_acc=0.733, test_acc=0.738\n",
            "Epoch 4: train_loss=0.6032, train_acc=0.765, test_acc=0.789\n",
            "Epoch 5: train_loss=0.5168, train_acc=0.805, test_acc=0.814\n",
            "Epoch 6: train_loss=0.4473, train_acc=0.829, test_acc=0.828\n",
            "Epoch 7: train_loss=0.4027, train_acc=0.851, test_acc=0.851\n",
            "Epoch 8: train_loss=0.3691, train_acc=0.861, test_acc=0.852\n",
            "Epoch 9: train_loss=0.3437, train_acc=0.875, test_acc=0.865\n",
            "Epoch 10: train_loss=0.3201, train_acc=0.882, test_acc=0.880\n",
            "Epoch 11: train_loss=0.2999, train_acc=0.891, test_acc=0.882\n",
            "Epoch 12: train_loss=0.2828, train_acc=0.901, test_acc=0.896\n",
            "Epoch 13: train_loss=0.2677, train_acc=0.906, test_acc=0.908\n",
            "Epoch 14: train_loss=0.2559, train_acc=0.911, test_acc=0.920\n",
            "Epoch 15: train_loss=0.2411, train_acc=0.920, test_acc=0.915\n",
            "Epoch 16: train_loss=0.2306, train_acc=0.925, test_acc=0.923\n",
            "Epoch 17: train_loss=0.2180, train_acc=0.930, test_acc=0.923\n",
            "Epoch 18: train_loss=0.2111, train_acc=0.931, test_acc=0.927\n",
            "Epoch 19: train_loss=0.2007, train_acc=0.937, test_acc=0.937\n",
            "Epoch 20: train_loss=0.1925, train_acc=0.942, test_acc=0.939\n"
          ]
        }
      ]
    },
    {
      "cell_type": "code",
      "source": [
        "import matplotlib.pyplot as plt\n",
        "\n",
        "def plot_history(history):\n",
        "    epochs = range(1, len(history[\"train_loss\"])+1)\n",
        "\n",
        "    plt.figure(figsize=(15,6))\n",
        "\n",
        "    # Loss\n",
        "    plt.subplot(1,2,1)\n",
        "    plt.plot(epochs, history[\"train_loss\"], label=\"Train Loss\")\n",
        "    plt.xlabel(\"Epoch\")\n",
        "    plt.ylabel(\"Loss\")\n",
        "    plt.title(\"Training Loss\")\n",
        "    plt.legend()\n",
        "    plt.grid(True)\n",
        "\n",
        "    # Accuracy\n",
        "    plt.subplot(1,2,2)\n",
        "    plt.plot(epochs, history[\"train_acc\"], label=\"Train Acc\")\n",
        "    plt.plot(epochs, history[\"test_acc\"], label=\"Test Acc\")\n",
        "    plt.xlabel(\"Epoch\")\n",
        "    plt.ylabel(\"Accuracy\")\n",
        "    plt.title(\"Accuracy\")\n",
        "    plt.legend()\n",
        "    plt.grid(True)\n",
        "\n",
        "    plt.tight_layout()\n",
        "    plt.show()\n",
        "\n",
        "plot_history(history)"
      ],
      "metadata": {
        "colab": {
          "base_uri": "https://localhost:8080/",
          "height": 460
        },
        "id": "55koKEM7JpKo",
        "outputId": "baea3f0e-ae27-4cfa-b720-1ce1713ef900"
      },
      "execution_count": 10,
      "outputs": [
        {
          "output_type": "display_data",
          "data": {
            "text/plain": [
              "<Figure size 1500x600 with 2 Axes>"
            ],
            "image/png": "[encoded data removed]"
          },
          "metadata": {}
        }
      ]
    }
  ]
}